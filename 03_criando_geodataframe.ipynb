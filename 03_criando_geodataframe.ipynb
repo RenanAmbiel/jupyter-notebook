{
 "cells": [
  {
   "cell_type": "markdown",
   "metadata": {},
   "source": [
    "<center><img src=\"https://synapsedatascience.com.br/wp-content/uploads/2020/12/logo-jupyter.png\" width=\"300\"/></center>"
   ]
  },
  {
   "cell_type": "markdown",
   "metadata": {},
   "source": [
    "# 1. Carregar dados da web - Roubos de celular em São Paulo"
   ]
  },
  {
   "cell_type": "markdown",
   "metadata": {},
   "source": [
    "Vamos fazer download dos dados de roubo: http://www.ssp.sp.gov.br/transparenciassp/Consulta.aspx\n",
    "\n",
    "Vamos pegar os dados de roubo de celular no ano de 2020. O site demora um pouco para processar a nossa requisição, mas em alguns minutos ele envia os dados no formato \"xls\", que é utilizado pelo o excel. \n",
    "\n",
    "Você também pode baixar o arquivo de \"metodologia\" fornecido no site para entender melhor os dados."
   ]
  },
  {
   "cell_type": "markdown",
   "metadata": {},
   "source": [
    "Para carregar os nosso dados no formato excel vamos instalar a biblioteca \"xlrd\"."
   ]
  },
  {
   "cell_type": "code",
   "execution_count": null,
   "metadata": {
    "scrolled": true
   },
   "outputs": [],
   "source": [
    "# instalando a biblioteca openpyxl com conda\n",
    "!conda install -c anaconda openpyxl -y\n",
    "\n",
    "# instalando a biblioteca openpyxl com pip\n",
    "#pip install openpyxl"
   ]
  },
  {
   "cell_type": "code",
   "execution_count": null,
   "metadata": {},
   "outputs": [],
   "source": [
    "# mostrar a versão da biblioteca\n",
    "!conda list openpyxl"
   ]
  },
  {
   "cell_type": "markdown",
   "metadata": {},
   "source": [
    "Também vamos usar a biblioteca __pandas__, caso não tenha instalado, você pode utilizar:"
   ]
  },
  {
   "cell_type": "code",
   "execution_count": null,
   "metadata": {},
   "outputs": [],
   "source": [
    "# instalando a biblioteca pandas com conda\n",
    "!conda install pandas -y\n",
    "\n",
    "# instalando a biblioteca pandas com pip\n",
    "# pip install pandas"
   ]
  },
  {
   "cell_type": "code",
   "execution_count": null,
   "metadata": {},
   "outputs": [],
   "source": [
    "# mostrar a versão da biblioteca\n",
    "!conda list pandas"
   ]
  },
  {
   "cell_type": "markdown",
   "metadata": {},
   "source": [
    "Vamos importa a biblioteca do pandas para carregar nossos dados:"
   ]
  },
  {
   "cell_type": "code",
   "execution_count": null,
   "metadata": {},
   "outputs": [],
   "source": [
    "# importar biblioteca do pandas para ler os dados\n"
   ]
  },
  {
   "cell_type": "markdown",
   "metadata": {},
   "source": [
    "Use a função do pandas __read_excel__ para ler os arquivos baixados:"
   ]
  },
  {
   "cell_type": "code",
   "execution_count": null,
   "metadata": {
    "scrolled": true
   },
   "outputs": [],
   "source": [
    "# ler os dados com pandas\n"
   ]
  },
  {
   "cell_type": "code",
   "execution_count": null,
   "metadata": {},
   "outputs": [],
   "source": [
    "# mostrar os dados com a função head\n"
   ]
  },
  {
   "cell_type": "code",
   "execution_count": null,
   "metadata": {},
   "outputs": [],
   "source": [
    "# mostrar todas as colunas para ver se temos informações de latitude e longitude\n"
   ]
  },
  {
   "cell_type": "code",
   "execution_count": null,
   "metadata": {},
   "outputs": [],
   "source": [
    "# mostrar apenas os dados de latitude e longitude\n"
   ]
  },
  {
   "cell_type": "markdown",
   "metadata": {},
   "source": [
    "Como podemos ver temos dados de __latitude__ e __longitude__ nulos. Sem essas informações não temos como colocar os dados no nosso mapa, então vamos remover todos os dados em que a latitude ou a longitude são nulos."
   ]
  },
  {
   "cell_type": "code",
   "execution_count": null,
   "metadata": {},
   "outputs": [],
   "source": [
    "# vamos usar o dropna com parâmetro subset para remover os dados\n",
    "\n",
    "\n"
   ]
  },
  {
   "cell_type": "markdown",
   "metadata": {},
   "source": [
    "# 2. Criar o GeoDataFrame (GeoPandas)"
   ]
  },
  {
   "cell_type": "markdown",
   "metadata": {},
   "source": [
    "Como vimos anteriormente o GeoDataFrame (gdf) é basicamente um Dataframe do pandas com uma coluna \"geometry\" com objetos da biblioteca Shapely. Para construir o nosso gdf, vamos criar a nossa coluna geometry, do tipo _Point_ utilizando os nossos dados de latitude e longitude."
   ]
  },
  {
   "cell_type": "code",
   "execution_count": null,
   "metadata": {},
   "outputs": [],
   "source": [
    "# importar a classe point da biblioteca Shapely\n"
   ]
  },
  {
   "cell_type": "code",
   "execution_count": null,
   "metadata": {},
   "outputs": [],
   "source": [
    "# criar a nossa coluna geometry\n",
    "\n",
    "\n"
   ]
  },
  {
   "cell_type": "markdown",
   "metadata": {},
   "source": [
    "Vamos ver se a nossa coluna geometry foi criada corretamente."
   ]
  },
  {
   "cell_type": "code",
   "execution_count": null,
   "metadata": {},
   "outputs": [],
   "source": [
    "# mostrar os dados com a função head\n"
   ]
  },
  {
   "cell_type": "markdown",
   "metadata": {},
   "source": [
    "Agora vamos criar o nosso GeoDataFrame."
   ]
  },
  {
   "cell_type": "code",
   "execution_count": null,
   "metadata": {},
   "outputs": [],
   "source": [
    "# antes vamos ver o tipo de dado do nosso dataframe\n"
   ]
  },
  {
   "cell_type": "code",
   "execution_count": null,
   "metadata": {},
   "outputs": [],
   "source": [
    "# importar a biblioteca do geopandas\n"
   ]
  },
  {
   "cell_type": "code",
   "execution_count": null,
   "metadata": {},
   "outputs": [],
   "source": [
    "# criar o GeoDataFrame\n"
   ]
  },
  {
   "cell_type": "code",
   "execution_count": null,
   "metadata": {},
   "outputs": [],
   "source": [
    "# vamos ver o tipo do nosso dataframe após a transformação\n"
   ]
  },
  {
   "cell_type": "markdown",
   "metadata": {},
   "source": [
    "Vamos verificar o nosso dataframe novamente para ver se houve alguma mudança"
   ]
  },
  {
   "cell_type": "code",
   "execution_count": null,
   "metadata": {},
   "outputs": [],
   "source": [
    "# mostrar os dados com a função head\n"
   ]
  },
  {
   "cell_type": "markdown",
   "metadata": {},
   "source": [
    "Como podemos ver a estrutura do nosso gdf é a mesma do pandas dataframe, e isso nós dá uma grande vantagem para manipular os dados, pois todas as funções herdadas do pandas também funcionarão no nosso geopandas.\n",
    "\n",
    "E se agente usar a função __plot()__ no nosso gdf, qual resultado teremos?"
   ]
  },
  {
   "cell_type": "code",
   "execution_count": null,
   "metadata": {},
   "outputs": [],
   "source": [
    "# mostrar os dados usando a função plot\n"
   ]
  },
  {
   "cell_type": "markdown",
   "metadata": {},
   "source": [
    "# 3. Operação de interseção entre geometrias"
   ]
  },
  {
   "cell_type": "markdown",
   "metadata": {},
   "source": [
    "Parece que já temos um esboço dos nosso dados. Vamos carregar o nosso gdf da capital de São Paulo e mostrar os dois dados em um só mapa."
   ]
  },
  {
   "cell_type": "code",
   "execution_count": null,
   "metadata": {},
   "outputs": [],
   "source": [
    "# carregar os dados da capital de SP\n",
    "\n",
    "\n"
   ]
  },
  {
   "cell_type": "code",
   "execution_count": null,
   "metadata": {},
   "outputs": [],
   "source": [
    "# mostrar os dados carregados com a função plot\n"
   ]
  },
  {
   "cell_type": "markdown",
   "metadata": {},
   "source": [
    "Como podemos mostrar os dois conjuntos de dados em um mesmo mapa? Vamos usar o matplotlib!"
   ]
  },
  {
   "cell_type": "code",
   "execution_count": null,
   "metadata": {},
   "outputs": [],
   "source": [
    "# importar a biblioteca matplotlib\n"
   ]
  },
  {
   "cell_type": "code",
   "execution_count": null,
   "metadata": {},
   "outputs": [],
   "source": [
    "# mostrar os dados com matplotlib\n",
    "\n",
    "\n",
    "\n",
    "\n"
   ]
  },
  {
   "cell_type": "markdown",
   "metadata": {},
   "source": [
    "De acordo com os nosso dados, realmente existe uma grande concentração dos nossos dados na região da capital, região metropolitana e na costa.\n",
    "\n",
    "E para filtrar somente os dados registrados dentro da capital? Podemos fazer isso facilmente utilizando o nosso geodataframe."
   ]
  },
  {
   "cell_type": "code",
   "execution_count": null,
   "metadata": {},
   "outputs": [],
   "source": [
    "# vamos primeiro pegar o polygon de são paulo\n"
   ]
  },
  {
   "cell_type": "code",
   "execution_count": null,
   "metadata": {},
   "outputs": [],
   "source": [
    "# mostrar o polygon no jupyter\n"
   ]
  },
  {
   "cell_type": "code",
   "execution_count": null,
   "metadata": {},
   "outputs": [],
   "source": [
    "# fazer a operação de interseção entre as geometrias\n"
   ]
  },
  {
   "cell_type": "markdown",
   "metadata": {},
   "source": [
    "Vamos mostrar novamente os dados em um mapa."
   ]
  },
  {
   "cell_type": "code",
   "execution_count": null,
   "metadata": {},
   "outputs": [],
   "source": [
    "# mostrar os dados com matplotlib\n",
    "\n",
    "\n",
    "\n"
   ]
  },
  {
   "cell_type": "markdown",
   "metadata": {},
   "source": [
    "Agora vamos salvar os nossos dados para usar posteriormente."
   ]
  },
  {
   "cell_type": "code",
   "execution_count": null,
   "metadata": {},
   "outputs": [],
   "source": [
    "# salvando os dados de roubo em sp\n",
    "\n",
    "\n"
   ]
  },
  {
   "cell_type": "markdown",
   "metadata": {},
   "source": [
    "Já temos os dados de São Paulo prontos para criar os nossos mapas interativos."
   ]
  },
  {
   "cell_type": "markdown",
   "metadata": {},
   "source": [
    "## Resumo"
   ]
  },
  {
   "cell_type": "markdown",
   "metadata": {},
   "source": [
    "Nesta aula nós vimos como baixar dados georeferenciados e criar um geodataframe. Mais especificamente voce deve ter aprendido:\n",
    "    \n",
    "**1)** Baixar e analisar dados disponibilizados por um portal público;\n",
    "\n",
    "**2)** Criar uma estrutura de dados GeoDataFrame;\n",
    "\n",
    "**3)** Filtrar os dados contidos em uma geometria."
   ]
  }
 ],
 "metadata": {
  "kernelspec": {
   "display_name": "Python 3",
   "language": "python",
   "name": "python3"
  },
  "language_info": {
   "codemirror_mode": {
    "name": "ipython",
    "version": 3
   },
   "file_extension": ".py",
   "mimetype": "text/x-python",
   "name": "python",
   "nbconvert_exporter": "python",
   "pygments_lexer": "ipython3",
   "version": "3.8.2"
  }
 },
 "nbformat": 4,
 "nbformat_minor": 4
}
