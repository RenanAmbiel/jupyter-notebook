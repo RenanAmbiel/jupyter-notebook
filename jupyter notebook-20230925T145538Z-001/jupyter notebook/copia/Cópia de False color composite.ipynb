{
 "cells": [
  {
   "cell_type": "code",
   "execution_count": 1,
   "id": "f0113081",
   "metadata": {},
   "outputs": [],
   "source": [
    "import os\n",
    "import ee\n",
    "import geemap"
   ]
  },
  {
   "cell_type": "code",
   "execution_count": 4,
   "id": "7300a384",
   "metadata": {},
   "outputs": [],
   "source": [
    "Map = geemap.Map()\n"
   ]
  },
  {
   "cell_type": "code",
   "execution_count": 5,
   "id": "ccadecec",
   "metadata": {},
   "outputs": [],
   "source": [
    "\n",
    "\n",
    "# Load an image.\n",
    "image = ee.Image('LANDSAT/LC08/C01/T1_TOA/LC08_044034_20140318')\n",
    "\n",
    "# Define the visualization parameters.\n",
    "vizParams = {\n",
    "  'bands': ['B5', 'B4', 'B3'],\n",
    "  'min': 0,\n",
    "  'max': 0.5,\n",
    "  'gamma': [0.95, 1.1, 1]\n",
    "}\n",
    "\n",
    "# Center the map and display the image.\n",
    "Map.setCenter(-122.1899, 37.5010, 10); # San Francisco Bay\n",
    "Map.addLayer(image, vizParams, 'False color composite')\n",
    "\n",
    "Map"
   ]
  },
  {
   "cell_type": "code",
   "execution_count": null,
   "id": "2a5b5072",
   "metadata": {},
   "outputs": [],
   "source": []
  }
 ],
 "metadata": {
  "kernelspec": {
   "display_name": "Python 3 (ipykernel)",
   "language": "python",
   "name": "python3"
  },
  "language_info": {
   "codemirror_mode": {
    "name": "ipython",
    "version": 3
   },
   "file_extension": ".py",
   "mimetype": "text/x-python",
   "name": "python",
   "nbconvert_exporter": "python",
   "pygments_lexer": "ipython3",
   "version": "3.9.16"
  }
 },
 "nbformat": 4,
 "nbformat_minor": 5
}
