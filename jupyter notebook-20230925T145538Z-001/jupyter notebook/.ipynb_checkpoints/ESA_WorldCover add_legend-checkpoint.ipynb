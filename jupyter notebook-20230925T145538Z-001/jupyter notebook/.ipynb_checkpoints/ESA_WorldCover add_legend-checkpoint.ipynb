{
 "cells": [
  {
   "cell_type": "code",
   "execution_count": 1,
   "id": "f0113081",
   "metadata": {},
   "outputs": [],
   "source": [
    "import os\n",
    "import ee\n",
    "import geemap"
   ]
  },
  {
   "cell_type": "code",
   "execution_count": 2,
   "id": "7300a384",
   "metadata": {},
   "outputs": [],
   "source": [
    "Map = geemap.Map()\n"
   ]
  },
  {
   "cell_type": "code",
   "execution_count": 3,
   "id": "a065445d",
   "metadata": {},
   "outputs": [
    {
     "name": "stdout",
     "output_type": "stream",
     "text": [
      "NLCD\n",
      "ESA_WorldCover\n",
      "ESRI_LandCover\n",
      "ESRI_LandCover_TS\n",
      "Dynamic_World\n",
      "NWI\n",
      "MODIS/051/MCD12Q1\n",
      "MODIS/006/MCD12Q1\n",
      "GLOBCOVER\n",
      "JAXA/PALSAR\n",
      "Oxford\n",
      "AAFC/ACI\n",
      "COPERNICUS/CORINE/V20/100m\n",
      "COPERNICUS/Landcover/100m/Proba-V/Global\n",
      "USDA/NASS/CDL\n",
      "ALOS_landforms\n"
     ]
    }
   ],
   "source": [
    "legends = geemap.builtin_legends\n",
    "for legend in legends:\n",
    "    print(legend)"
   ]
  },
  {
   "cell_type": "code",
   "execution_count": 5,
   "id": "ccadecec",
   "metadata": {},
   "outputs": [],
   "source": [
    "Map = geemap.Map()\n",
    "Map.add_basemap('ESA_WorldCover')\n",
    "visualization = {\n",
    "  bands: ['Map'],\n",
    "};\n",
    "landcover = ee.ImageCollection(\"ESA/WorldCover/v100\")\n",
    "Map.addLayer(landcover, {visualization}, 'NLCD Land Cover')\n",
    "Map.add_legend(builtin_legend='ESA_WorldCover')\n",
    "\n",
    "Map"
   ]
  },
  {
   "cell_type": "code",
   "execution_count": null,
   "id": "2a5b5072",
   "metadata": {},
   "outputs": [],
   "source": [
    "Map"
   ]
  },
  {
   "cell_type": "code",
   "execution_count": null,
   "id": "f2025a6d",
   "metadata": {},
   "outputs": [],
   "source": []
  },
  {
   "cell_type": "code",
   "execution_count": null,
   "id": "429451a0",
   "metadata": {},
   "outputs": [],
   "source": []
  }
 ],
 "metadata": {
  "kernelspec": {
   "display_name": "Python 3 (ipykernel)",
   "language": "python",
   "name": "python3"
  },
  "language_info": {
   "codemirror_mode": {
    "name": "ipython",
    "version": 3
   },
   "file_extension": ".py",
   "mimetype": "text/x-python",
   "name": "python",
   "nbconvert_exporter": "python",
   "pygments_lexer": "ipython3",
   "version": "3.9.16"
  }
 },
 "nbformat": 4,
 "nbformat_minor": 5
}
