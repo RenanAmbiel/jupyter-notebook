{
 "cells": [
  {
   "cell_type": "markdown",
   "metadata": {},
   "source": [
    "<center><img src=\"https://synapsedatascience.com.br/wp-content/uploads/2020/12/logo-jupyter.png\" width=\"300\"/></center>"
   ]
  },
  {
   "cell_type": "markdown",
   "metadata": {},
   "source": [
    "# 1. Mostrar os dados no mapa"
   ]
  },
  {
   "cell_type": "markdown",
   "metadata": {},
   "source": [
    "Vamos estudar o passo a passo para mostrar os dados nos mapas.\n",
    "\n",
    "Para criar os mapas e construir a nossa visualização, vamos utilizar a biblioteca **folium**.\n",
    "\n",
    "Você pode instalar a biblioteca folium através do conda ou do pip:"
   ]
  },
  {
   "cell_type": "code",
   "execution_count": null,
   "metadata": {},
   "outputs": [],
   "source": [
    "# instalando a biblioteca folium com conda\n",
    "!conda install folium -c conda-forge -y\n",
    "\n",
    "# instalando a biblioteca folium com pip\n",
    "#!pip install folium"
   ]
  },
  {
   "cell_type": "code",
   "execution_count": null,
   "metadata": {},
   "outputs": [],
   "source": [
    "# mostrar a versão da biblioteca\n",
    "!conda list folium"
   ]
  },
  {
   "cell_type": "markdown",
   "metadata": {},
   "source": [
    "Vamos importa as bibliotecas **folium** e **geopandas**."
   ]
  },
  {
   "cell_type": "code",
   "execution_count": null,
   "metadata": {},
   "outputs": [],
   "source": [
    "# importar a biblioteca geopandas\n",
    "\n",
    "\n",
    "# importar a biblioteca folium\n"
   ]
  },
  {
   "cell_type": "markdown",
   "metadata": {},
   "source": [
    "Vamos primeiro criar um mapa simples."
   ]
  },
  {
   "cell_type": "code",
   "execution_count": null,
   "metadata": {},
   "outputs": [],
   "source": [
    "# criar um mapa simples usando folium\n",
    "\n",
    "\n"
   ]
  },
  {
   "cell_type": "markdown",
   "metadata": {},
   "source": [
    "Com apenas uma função já conseguimos criar o nosso mapa. Nele nós conseguimos realizar as operações de **zoom** e **movimento com mouse**.\n",
    "\n",
    "E para mostrar os nosso dados?\n",
    "\n",
    "Vamos iniciar carregando os nosso dados da capital de São Paulo."
   ]
  },
  {
   "cell_type": "code",
   "execution_count": null,
   "metadata": {},
   "outputs": [],
   "source": [
    "# carregando os dados de geometria\n",
    "\n",
    "\n",
    "# carregando os dados de roubo\n"
   ]
  },
  {
   "cell_type": "markdown",
   "metadata": {},
   "source": [
    "Vamos criar um novo mapa e mostrar os dados."
   ]
  },
  {
   "cell_type": "code",
   "execution_count": null,
   "metadata": {},
   "outputs": [],
   "source": [
    "# separar parte dos dados de roubo\n",
    "\n",
    "\n",
    "# criar o mapa\n",
    "\n",
    "\n",
    "# criar uma feature geojson com os dados\n",
    "\n",
    "\n",
    "# adicionar os dados no mapa\n",
    "\n",
    "\n",
    "# mostrar o mapa\n"
   ]
  },
  {
   "cell_type": "markdown",
   "metadata": {},
   "source": [
    "Os nossos dados foram mostrados corretamente, mas foi preciso fazer um zoom no mapa para observar melhor. Como podemos deixar o mapa mais responsivo no zoom?"
   ]
  },
  {
   "cell_type": "code",
   "execution_count": null,
   "metadata": {},
   "outputs": [],
   "source": [
    "# vamos calcular o valor médio de latitude e longitude dos nosso dados\n",
    "\n",
    "\n",
    "\n",
    "# criar o mapa\n",
    "\n",
    "\n",
    "# criar uma feature geojson com os dados\n",
    "\n",
    "\n",
    "# adicionar os dados no mapa\n",
    "\n",
    "\n",
    "# mostrar o mapa\n"
   ]
  },
  {
   "cell_type": "markdown",
   "metadata": {},
   "source": [
    "# 2. Criar mapas de agrupamentos (clusters)"
   ]
  },
  {
   "cell_type": "markdown",
   "metadata": {},
   "source": [
    "E para mostrar todos os nosso dados? Adicionando uma grande quantidade de dados no nosso mapa pode dificultar a visualização, por isso vamos utilizar um plugin do folium para melhorar a visualização fazendo agrupamentos dinâmicos."
   ]
  },
  {
   "cell_type": "code",
   "execution_count": null,
   "metadata": {},
   "outputs": [],
   "source": [
    "# importar o plugin FastMarkerCluster\n"
   ]
  },
  {
   "cell_type": "code",
   "execution_count": null,
   "metadata": {
    "scrolled": false
   },
   "outputs": [],
   "source": [
    "# criar o mapa utilizando o parâmetro location com as médias\n",
    "\n",
    "\n",
    "# criar o marcador de clusterização\n",
    "\n",
    "\n",
    "# adicionar marcador no mapa\n",
    "\n",
    "\n",
    "# mostrar o mapa\n"
   ]
  },
  {
   "cell_type": "markdown",
   "metadata": {},
   "source": [
    "Como podemos melhorar o nosso mapa?\n",
    "\n",
    "1. Trocar o mapa base;\n",
    "2. Adicionar as fronteiras da nossa cidade;\n",
    "3. Trocar o estilo dos dados."
   ]
  },
  {
   "cell_type": "code",
   "execution_count": null,
   "metadata": {},
   "outputs": [],
   "source": [
    "# mostrar o geodataframe de são paulo\n"
   ]
  },
  {
   "cell_type": "code",
   "execution_count": null,
   "metadata": {},
   "outputs": [],
   "source": [
    "# criar o mapa, trocando o tiles para 'cartodbpositron'\n",
    "\n",
    "\n",
    "# criar o GeoJson da nossa geometria para adicionar ao mapa\n",
    "\n",
    "\n",
    "\n",
    "\n",
    "\n",
    "# adicionar limites no nosso mapa\n",
    "\n",
    "\n",
    "# criar o marcador de clusterização\n",
    "\n",
    "\n",
    "# adicionar marcador no mapa\n",
    "\n",
    "\n",
    "# mostrar o mapa\n"
   ]
  },
  {
   "cell_type": "markdown",
   "metadata": {},
   "source": [
    "Podemos salvar os mapas criados com a biblioteca folium facilmente usando o método __save__."
   ]
  },
  {
   "cell_type": "code",
   "execution_count": null,
   "metadata": {},
   "outputs": [],
   "source": [
    "# salvar o nosso mapa em um arquivo html\n"
   ]
  },
  {
   "cell_type": "markdown",
   "metadata": {},
   "source": [
    "Vamos abrir o nosso mapa salvo em html e ver o resultado!"
   ]
  },
  {
   "cell_type": "markdown",
   "metadata": {},
   "source": [
    "# 3. Criar mapas de calor (HeatMap)"
   ]
  },
  {
   "cell_type": "markdown",
   "metadata": {},
   "source": [
    "Para criar o nosso mapa de calor, vamos utilizar um plugin **HeatMap** da biblioteca folium."
   ]
  },
  {
   "cell_type": "code",
   "execution_count": null,
   "metadata": {},
   "outputs": [],
   "source": [
    "# importar o plugin HeatMap\n"
   ]
  },
  {
   "cell_type": "code",
   "execution_count": null,
   "metadata": {},
   "outputs": [],
   "source": [
    "# criar o mapa com o tiles 'cartodbpositron'\n",
    "\n",
    "\n",
    "# criar o heatmap\n",
    "\n",
    "\n",
    "# adicionar no mapa\n",
    "\n",
    "\n",
    "# mostrar o mapa\n"
   ]
  },
  {
   "cell_type": "markdown",
   "metadata": {},
   "source": [
    "Vamos criar um heatmap para a região de grande são paulo."
   ]
  },
  {
   "cell_type": "code",
   "execution_count": null,
   "metadata": {},
   "outputs": [],
   "source": [
    "# salvar o nosso mapa em um arquivo html\n"
   ]
  },
  {
   "cell_type": "markdown",
   "metadata": {},
   "source": [
    "# 4. Adicionar informações estatísticas no mapa"
   ]
  },
  {
   "cell_type": "markdown",
   "metadata": {},
   "source": [
    "Vamos contar a quantidade de roubos de celular em cada município de grande são paulo e plotar um mapa com um popup da quantidade."
   ]
  },
  {
   "cell_type": "code",
   "execution_count": null,
   "metadata": {},
   "outputs": [],
   "source": [
    "# carregar os municípios de grande são paulo\n",
    "gdf_geometrias_gsp = gpd.read_file(\"dados/municipios_grande_sp.json\", driver=\"GeoJSON\")\n",
    "\n",
    "# carregar os dados de roubo de grande são paulo\n",
    "gdf_roubos_gsp = gpd.read_file(\"dados/roubo_celular_grande_sp.json\", driver=\"GeoJSON\")"
   ]
  },
  {
   "cell_type": "markdown",
   "metadata": {},
   "source": [
    "Vamos analisar os nossos dados."
   ]
  },
  {
   "cell_type": "code",
   "execution_count": null,
   "metadata": {},
   "outputs": [],
   "source": [
    "# mostrar os dados\n"
   ]
  },
  {
   "cell_type": "code",
   "execution_count": null,
   "metadata": {},
   "outputs": [],
   "source": [
    "# contar a quantidade de dados em cada município e salvar em uma coluna \n",
    "\n",
    "\n",
    "\n",
    "\n"
   ]
  },
  {
   "cell_type": "code",
   "execution_count": null,
   "metadata": {
    "scrolled": true
   },
   "outputs": [],
   "source": [
    "# mostrar os dados com a função head\n"
   ]
  },
  {
   "cell_type": "code",
   "execution_count": null,
   "metadata": {},
   "outputs": [],
   "source": [
    "# vamos calcular o valor médio de latitude e longitude dos nosso dados\n",
    "\n",
    "\n",
    "\n",
    "# criar o mapa com o tiles 'cartodbpositron'\n",
    "\n",
    "\n",
    "# fazer um for nos municípios e criar o geojson da geometria e o popup \n",
    "\n",
    "    \n",
    "    # criar o GeoJson da nossa geometria para adicionar ao mapa\n",
    "\n",
    "    \n",
    "    \n",
    "    \n",
    "    \n",
    "    # criar o popup com as informações\n",
    "\n",
    "    \n",
    "    \n",
    "    \n",
    "    # adicionar o popup na geoemtria do município\n",
    "\n",
    "    \n",
    "    # adicionar a geometria no mapa\n",
    "    \n",
    "\n",
    "# salvar o mapa\n"
   ]
  },
  {
   "cell_type": "markdown",
   "metadata": {},
   "source": [
    "Vamos abrir o nosso mapa salvo em html e ver o resultado!"
   ]
  },
  {
   "cell_type": "markdown",
   "metadata": {},
   "source": [
    "### `Exercício:` construa um HeatMap com os dados de grande São Paulo.\n",
    "1. Carregue os dados de eventos e geometria de grande São Paulo.\n",
    "2. Inicialize o mapa usando o parâmetro location com os valores médios de latitude e longitude.\n",
    "3. Adicione a fronteira da geometria no mapa.\n",
    "4. Crie o HeatMap e adicione no mapa.\n",
    "5. Salve o mapa em um arquivo html."
   ]
  },
  {
   "cell_type": "code",
   "execution_count": null,
   "metadata": {},
   "outputs": [],
   "source": [
    "# Resposta"
   ]
  },
  {
   "cell_type": "markdown",
   "metadata": {},
   "source": [
    "## Resumo\n",
    "\n",
    "Nesta aula nós vimos como criar mapas interativos e mostrar os dados georreferenciados. Mais especificamente \n",
    "voce deve ter aprendido:\n",
    "\n",
    "**1)** Criar mapas com a biblioteca Folium;\n",
    "\n",
    "**2)** Motrar dados de diferentes geometrias no mapa;\n",
    "\n",
    "**3)** Criar mapas com cluster de dados;\n",
    "\n",
    "**4)** Criar mapas de calor (heatmaps);\n",
    "\n",
    "**5)** Adicionar informações estatísticas no mapa."
   ]
  },
  {
   "cell_type": "markdown",
   "metadata": {},
   "source": [
    "## Resposta do Exercício"
   ]
  },
  {
   "cell_type": "code",
   "execution_count": null,
   "metadata": {},
   "outputs": [],
   "source": [
    "# vamos calcular o valor médio de latitude e longitude dos nosso dados\n",
    "media_latitude = gdf_roubos_grande_sp['LATITUDE'].mean()\n",
    "media_longitude = gdf_roubos_grande_sp['LONGITUDE'].mean()\n",
    "\n",
    "# criar o mapa com o tiles 'cartodbpositron'\n",
    "fmap = folium.Map(location=[media_latitude, media_longitude], tiles='cartodbpositron')\n",
    "\n",
    "# criar o GeoJson da nossa geometria para adicionar ao mapa\n",
    "limites = folium.features.GeoJson(gdf_grande_sp, \n",
    "                                  style_function=lambda feature: {\n",
    "                                      'color': 'black',\n",
    "                                      'weight' : 2,\n",
    "                                      'fillOpacity' : 0.0\n",
    "                                  })\n",
    "\n",
    "# adicionar limites no nosso mapa\n",
    "fmap.add_child(limites)\n",
    "\n",
    "# criar o heatmap\n",
    "heat_map = HeatMap(gdf_roubos_grande_sp[['LATITUDE', 'LONGITUDE']])\n",
    "\n",
    "# adicionar no mapa\n",
    "fmap.add_child(heat_map)\n",
    "\n",
    "# salvar o mapa\n",
    "fmap.save('mapas/heatmap_roubos_grande_sp.html')"
   ]
  }
 ],
 "metadata": {
  "kernelspec": {
   "display_name": "Python 3",
   "language": "python",
   "name": "python3"
  },
  "language_info": {
   "codemirror_mode": {
    "name": "ipython",
    "version": 3
   },
   "file_extension": ".py",
   "mimetype": "text/x-python",
   "name": "python",
   "nbconvert_exporter": "python",
   "pygments_lexer": "ipython3",
   "version": "3.8.2"
  }
 },
 "nbformat": 4,
 "nbformat_minor": 4
}
