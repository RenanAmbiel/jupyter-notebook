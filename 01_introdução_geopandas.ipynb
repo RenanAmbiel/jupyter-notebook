{
 "cells": [
  {
   "cell_type": "markdown",
   "metadata": {},
   "source": [
    "<center><img src=\"https://synapsedatascience.com.br/wp-content/uploads/2020/12/logo-jupyter.png\" width=\"300\"/></center>"
   ]
  },
  {
   "cell_type": "markdown",
   "metadata": {},
   "source": [
    "# 1. Introdução a GeoPandas"
   ]
  },
  {
   "cell_type": "markdown",
   "metadata": {},
   "source": [
    "![Divisão do GeoPandas](imagens/geopandas_separacao.png)\n",
    "\n",
    "A biblioteca `geopandas` é uma extensão da biblioteca `pandas` criada para facilitar a manipulação de dados georreferenciados.\n",
    "\n",
    "__Mas o que são dados georreferenciados?__\n",
    "\n",
    "Também conhecidos como dados espaciais, geográficos ou geoespaciais, são dados que possuem as informações para localizar objetos ou entidades na superfície da Terra. Essas informações são representadas principalmente pelos dados de __latitude__ e __longitude__.\n",
    "\n",
    "__Por que eu devo aprender?__\n",
    "\n",
    "Cientistas de dados lidam com problemas distintos e precisam manipular diferentes tipos de dados, como imagens, áudio e texto. Com a popularização dos dispositivos móveis, como o smartphone, os dados da sua localização são compartilhados a todo momento com diversos aplicativos, e estes aplicativos usam essas informações para fornecer uma serviços de acordo com a sua localização.\n",
    "\n",
    "__Exemplos de aplicativos que trabalham com dados georreferenciados:__\n",
    "- Google\n",
    "- Waze\n",
    "- iFood\n",
    "- Uber\n",
    "- Facebook\n",
    "- Twitter\n",
    "\n",
    "__O que você vai aprender nesse curso?__\n",
    "\n",
    "1. Baixar dados espaciais de sites públicos;\n",
    "2. Ler, visualizar e salvar dados com a biblioteca GeoPandas;\n",
    "3. Criar, manipular e realizar operações com objetos geométricos;\n",
    "4. Criar mapas interativos a partir de dados georreferenciados.\n",
    "\n",
    "__E tudo isso fazendo uma análise real com dados de roubo de célular em São Paulo.__"
   ]
  },
  {
   "cell_type": "markdown",
   "metadata": {},
   "source": [
    "__Como instalar a biblioteca geopandas?__"
   ]
  },
  {
   "cell_type": "code",
   "execution_count": null,
   "metadata": {},
   "outputs": [],
   "source": [
    "# instalando a biblioteca geopandas com conda\n",
    "!conda install geopandas -y\n",
    "\n",
    "# instalando a biblioteca geopandas com pip\n",
    "#!pip install geopandas"
   ]
  },
  {
   "cell_type": "code",
   "execution_count": null,
   "metadata": {},
   "outputs": [],
   "source": [
    "# mostrar a versão da biblioteca\n",
    "!conda list geopandas"
   ]
  },
  {
   "cell_type": "markdown",
   "metadata": {},
   "source": [
    "**`Dica:`** documentação da biblioteca *geopandas*: https://geopandas.org/"
   ]
  },
  {
   "cell_type": "markdown",
   "metadata": {},
   "source": [
    "Nessa aula também vamos utilizar a biblioteca `matplotlib` para construir figuras."
   ]
  },
  {
   "cell_type": "code",
   "execution_count": null,
   "metadata": {
    "scrolled": false
   },
   "outputs": [],
   "source": [
    "# instalando a biblioteca matplotlib com conda\n",
    "!conda install matplotlib -y\n",
    "\n",
    "# instalando a biblioteca matplotlib com pip\n",
    "#!pip install matplotlib"
   ]
  },
  {
   "cell_type": "code",
   "execution_count": null,
   "metadata": {},
   "outputs": [],
   "source": [
    "# mostrar a versão da biblioteca\n",
    "!conda list matplotlib"
   ]
  },
  {
   "cell_type": "markdown",
   "metadata": {},
   "source": [
    "**`Dica:`** documentação da biblioteca *matplotlib*: https://matplotlib.org/users/index.html"
   ]
  },
  {
   "cell_type": "code",
   "execution_count": null,
   "metadata": {},
   "outputs": [],
   "source": [
    "# importar as bibliotecas\n",
    "\n"
   ]
  },
  {
   "cell_type": "markdown",
   "metadata": {},
   "source": [
    "# 2. Baixando dados espaciais"
   ]
  },
  {
   "cell_type": "markdown",
   "metadata": {},
   "source": [
    "Para esta lição vamos baixar os dados dos municípios da cidade de São Paulo.\n",
    "\n",
    "Você pode encontrar um catálogo de dados por estado no site do IBGE: https://www.ibge.gov.br/geociencias/organizacao-do-territorio/15774-malhas.html?=&t=downloads\n",
    "\n",
    "Você pode baixar os [dados](https://geoftp.ibge.gov.br/organizacao_do_territorio/malhas_territoriais/malhas_municipais/municipio_2019/UFs/SP/sp_municipios.zip) com o comando\n",
    "`wget` (para MacOS use `curl -O`).\n",
    "\n",
    "Baixe os dados e descompacte na pasta \"dados\". Na pasta, vamos ter um conjunto de arquivos com o nome \"SP_Municipios_2019\"."
   ]
  },
  {
   "cell_type": "markdown",
   "metadata": {},
   "source": [
    "# 3. Lendo arquivos"
   ]
  },
  {
   "cell_type": "markdown",
   "metadata": {},
   "source": [
    "Tipicamente o primeiro passo para fazer uma análise em python consiste em carregar os dados. Para arquivos espaciais existem vários padrões de arquivos diferentes, entre os mais utilizados, estão: [Shapefile](https://en.wikipedia.org/wiki/Shapefile), [GeoJSON](https://en.wikipedia.org/wiki/GeoJSON), [KML](https://en.wikipedia.org/wiki/Keyhole_Markup_Language) e [GPKG](https://en.wikipedia.org/wiki/GeoPackage).\n",
    "\n",
    "Com o [Geopandas](http://geopandas.org/io.html) podemos ler todos estes formatos e muitos outros. Ler dados espaciais pode ser feito facilmente com o geopandas usando a função `gpd.read_file()`."
   ]
  },
  {
   "cell_type": "code",
   "execution_count": null,
   "metadata": {},
   "outputs": [],
   "source": [
    "# lendo os dados com o geopandas\n"
   ]
  },
  {
   "cell_type": "markdown",
   "metadata": {},
   "source": [
    "Agora que o arquivo shapefile foi lido na variável `data`, vamos ver o seu formato:"
   ]
  },
  {
   "cell_type": "code",
   "execution_count": null,
   "metadata": {},
   "outputs": [],
   "source": []
  },
  {
   "cell_type": "markdown",
   "metadata": {},
   "source": [
    "Podemos ver que o tipo da variável é um `GeoDataFrame`. O objeto GeoDataFrame herda as funcionalidades do `pandas.DataFrame` adicionando operações sobre dados espaciais, usando abordagens semelhantes as estruturas de dados do Pandas (por isso o nome Geopandas). O `GeoDataFrame` possui algumas características especiais e funções internas que facilitam análises de estruturas geométricas.\n",
    "\n",
    "Vamos dar uma olhada nos nossos dados, mostrando as cinco primeiras linhas com a função `head()`."
   ]
  },
  {
   "cell_type": "code",
   "execution_count": null,
   "metadata": {},
   "outputs": [],
   "source": []
  },
  {
   "cell_type": "markdown",
   "metadata": {},
   "source": [
    "# 4. Visualizando os dados"
   ]
  },
  {
   "cell_type": "markdown",
   "metadata": {},
   "source": [
    "Quando utilizamos dados espaciais, uma boa ideia é explorar os dados utilizando um mapa. Criar um mapa simples de um `GeoDataFrame` é muito fácil: você pode utilizar a função ``.plot()``, que cria um mapa baseado nas geometrias dos dados. Na verdade o geopandas utiliza o matplotlib para criar os mapas.\n",
    "\n",
    " - Para usar a função precisamos instalar a biblioteca descartes:  \n",
    "__utilizando o conda__: conda install -c conda-forge descartes  \n",
    "__utilizando o pip__: pip install descartes\n",
    "\n",
    "Vamos testar a função ``.plot()`` e ver como os nosso dados se parecem."
   ]
  },
  {
   "cell_type": "code",
   "execution_count": null,
   "metadata": {},
   "outputs": [],
   "source": []
  },
  {
   "cell_type": "markdown",
   "metadata": {},
   "source": [
    "Vamos melhorar a nossa visualização utilizando parâmetros do matplotlib."
   ]
  },
  {
   "cell_type": "code",
   "execution_count": null,
   "metadata": {},
   "outputs": [],
   "source": []
  },
  {
   "cell_type": "markdown",
   "metadata": {},
   "source": [
    "# 5. Salvando os dados"
   ]
  },
  {
   "cell_type": "markdown",
   "metadata": {},
   "source": [
    "Uma vantagem do `GeoDataFrame` é a herança das funções do Pandas, utilizando as informações dos dados podemos filtrar uma determinada região:"
   ]
  },
  {
   "cell_type": "code",
   "execution_count": null,
   "metadata": {
    "scrolled": false
   },
   "outputs": [],
   "source": [
    "# vamos filtrar somente a capital 'São Paulo'\n",
    "\n"
   ]
  },
  {
   "cell_type": "code",
   "execution_count": null,
   "metadata": {},
   "outputs": [],
   "source": [
    "# vamos mostrar a região filtrada\n",
    "\n"
   ]
  },
  {
   "cell_type": "markdown",
   "metadata": {},
   "source": [
    "Salvar os dados espaciais utilizando o GeoPandas também é muito fácil.\n",
    "\n",
    "Vamos salvar apenas o município de São Paulo filtrado acima em um novo arquivo utilizando a função ``to_file()``. Para salvar os arquivos, o geopandas usa o formato padrão Shapefile (.shp), mas também podemos salvar em outros formatos especificando o parâmetro \"driver\". Nesse exemplo, vamos salvar com o formato \"GeoJSON\"."
   ]
  },
  {
   "cell_type": "code",
   "execution_count": null,
   "metadata": {},
   "outputs": [],
   "source": [
    "# salvar o geodataframe com formato geojson\n",
    "\n"
   ]
  },
  {
   "cell_type": "markdown",
   "metadata": {},
   "source": [
    "Vamos ler o arquivo criado e ver os dados."
   ]
  },
  {
   "cell_type": "code",
   "execution_count": null,
   "metadata": {},
   "outputs": [],
   "source": [
    "\n"
   ]
  },
  {
   "cell_type": "markdown",
   "metadata": {},
   "source": [
    "## Resumo\n",
    "\n",
    "Nesta aula nós vimos os primeiros passos para usar a biblioteca geopandas. Mais especificamente \n",
    "voce deve ter aprendido:\n",
    "\n",
    "**1)** Ler dados usando o geopandas;\n",
    "\n",
    "**2)** Mostrar os dados lidos em uma visualização;\n",
    "\n",
    "**3)** Salvar dados GeoDataFrame usando o geopandas."
   ]
  }
 ],
 "metadata": {
  "kernelspec": {
   "display_name": "Python 3",
   "language": "python",
   "name": "python3"
  },
  "language_info": {
   "codemirror_mode": {
    "name": "ipython",
    "version": 3
   },
   "file_extension": ".py",
   "mimetype": "text/x-python",
   "name": "python",
   "nbconvert_exporter": "python",
   "pygments_lexer": "ipython3",
   "version": "3.8.2"
  }
 },
 "nbformat": 4,
 "nbformat_minor": 4
}
